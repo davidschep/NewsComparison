{
 "cells": [
  {
   "cell_type": "code",
   "execution_count": null,
   "metadata": {},
   "outputs": [],
   "source": [
    "\n",
    "import numpy as np\n",
    "import pandas as pd\n",
    "import matplotlib as plt\n",
    "import os\n",
    "from datetime import datetime, timedelta\n",
    "import dateutil.parser"
   ]
  },
  {
   "cell_type": "code",
   "execution_count": null,
   "metadata": {},
   "outputs": [],
   "source": [
    "df1 = pd.read_csv('data/scraping_data.csv')\n",
    "df1.head()\n",
    "\n",
    "print(\"Current size\", len(df1))"
   ]
  },
  {
   "cell_type": "code",
   "execution_count": null,
   "metadata": {},
   "outputs": [],
   "source": [
    "def date_parser(str_date):\n",
    "    if str_date == \"Unknown\" or str_date == \"\" or \"hours ago\" in str_date:\n",
    "        parsed_date = datetime(2023, 1, 1)\n",
    "    else:\n",
    "        try:\n",
    "            parsed_date = dateutil.parser.parse(str_date)\n",
    "        except:\n",
    "            parsed_date = datetime(2023, 1, 1)\n",
    "    return parsed_date"
   ]
  },
  {
   "cell_type": "code",
   "execution_count": null,
   "metadata": {},
   "outputs": [],
   "source": [
    "\n",
    "#df1.drop(['date'], axis=1, inplace=True, errors='ignore')\n",
    "#df1.loc[:,'date'] = '2023-01-01'\n",
    "#df1['date'] = pd.to_datetime(df1['date'], format='%b. %d, %Y, %-H:%M %p %Z', errors=\"ignore\") # Nov. 19, 2023, 7:53 p.m. ET (NY Post)\n",
    "#df1['date'] = pd.to_datetime(df1['date'], format='mixed', exact=False)#, errors=\"ignore\")\n",
    "\n",
    "df1.dropna(subset=['date'], inplace=True)\n",
    "\n",
    "df1['old_date'] = df1['date']\n",
    "for index, row in df1.iterrows():\n",
    "    row['date'] = date_parser(str(row['date']))\n",
    "    \n",
    "df1.drop(['summary'], axis=1, inplace=True, errors='ignore')"
   ]
  },
  {
   "cell_type": "code",
   "execution_count": null,
   "metadata": {},
   "outputs": [],
   "source": [
    "df1.dropna(subset=['content'], inplace=True)"
   ]
  },
  {
   "cell_type": "code",
   "execution_count": null,
   "metadata": {},
   "outputs": [],
   "source": [
    "print(\"Current size\", len(df1))\n",
    "\n",
    "df1.head()"
   ]
  },
  {
   "cell_type": "code",
   "execution_count": null,
   "metadata": {},
   "outputs": [],
   "source": [
    "df1.to_csv(os.path.join(\"data/\", \"scraping_data_filtered.csv\"))"
   ]
  }
 ],
 "metadata": {
  "language_info": {
   "name": "python"
  }
 },
 "nbformat": 4,
 "nbformat_minor": 2
}
