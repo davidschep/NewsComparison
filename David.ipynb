{
 "cells": [
  {
   "cell_type": "markdown",
   "metadata": {},
   "source": [
    "### Imports"
   ]
  },
  {
   "cell_type": "code",
   "execution_count": 1,
   "metadata": {},
   "outputs": [],
   "source": [
    "\n",
    "import numpy as np\n",
    "import pandas as pd\n",
    "import matplotlib as plt\n",
    "import os\n",
    "from datetime import datetime, timedelta\n",
    "import dateutil.parser"
   ]
  },
  {
   "cell_type": "code",
   "execution_count": 128,
   "metadata": {},
   "outputs": [],
   "source": [
    "date_formats = [\n",
    "    [\"Nov. 19, 2023, 7:53 p.m. ET\", \"NY Post\"],\n",
    "    [\"Nov. 13, 2023\", \"NY Post\"],\n",
    "    [\"2023-11-18T14:04:17Z\", \"Atlantic\"],\n",
    "    [\"        5:17 PM EST, Sun November 19, 2023\", \"CNN\"],\n",
    "    [\"November 20, 2023 14:00\", \"CNN\"],\n",
    "    [\"2023-11-19T20:20:10Z\", \"Business Insider\"],\n",
    "    [\"November 19, 2023 at 3:18 p.m. EST\", \"Washington Post\"],\n",
    "    [\"Unknown\", \"Fox News\"],\n",
    "    [\"14 hours ago\", \"Fox News\"],\n",
    "    [\"November 19, 2023 10:39am EST\", \"Fox News\"],\n",
    "    [\"Mon 20 Nov 2023 00.24 CET\", \"Guardian\"],\n",
    "    [\"\", ]\n",
    "]"
   ]
  },
  {
   "cell_type": "markdown",
   "metadata": {},
   "source": [
    "### Cluster data (outside of app)\n",
    "Sometimes easier to do outside of app, and then load in app later from cache"
   ]
  },
  {
   "cell_type": "code",
   "execution_count": 2,
   "metadata": {},
   "outputs": [],
   "source": [
    "import news_connector"
   ]
  },
  {
   "cell_type": "code",
   "execution_count": 39,
   "metadata": {},
   "outputs": [],
   "source": [
    "data = pd.read_csv('data/scraping_data_filtered.csv')"
   ]
  },
  {
   "cell_type": "code",
   "execution_count": 40,
   "metadata": {},
   "outputs": [
    {
     "name": "stderr",
     "output_type": "stream",
     "text": [
      "[nltk_data] Downloading package stopwords to\n",
      "[nltk_data]     C:\\Users\\David\\AppData\\Roaming\\nltk_data...\n",
      "[nltk_data]   Package stopwords is already up-to-date!\n"
     ]
    },
    {
     "name": "stdout",
     "output_type": "stream",
     "text": [
      "Clustering: KMeans fit()\n",
      "Clustering: Kmeans has converged!\n"
     ]
    }
   ],
   "source": [
    "nr_clusters = 8\n",
    "\n",
    "tfidf_matrix = news_connector.extract_documents(data)\n",
    "\n",
    "# KMeans clustering\n",
    "Kmeans = news_connector.KMeansAlgorithm(tfidf_matrix, 8) # Optimal number of clusters is determined from the results of the elbow method\n",
    "labels = Kmeans.fit()\n",
    "clustered_data = data.copy()\n",
    "clustered_data['cluster'] = labels"
   ]
  },
  {
   "cell_type": "code",
   "execution_count": 41,
   "metadata": {},
   "outputs": [],
   "source": [
    "clustered_data.to_csv(os.path.join(\"data/\", \"Monday-1_scraping_data_filtered_clustered.csv\"))\n",
    "tfidf_matrix.to_csv(os.path.join(\"data/\", \"Monday_1_tfidf.csv\"))"
   ]
  },
  {
   "cell_type": "code",
   "execution_count": 43,
   "metadata": {},
   "outputs": [
    {
     "name": "stdout",
     "output_type": "stream",
     "text": [
      "               name  count\n",
      "0   Washington Post      7\n",
      "1          Fox News      5\n",
      "2           NY Post      3\n",
      "3               CNN      3\n",
      "4          Guardian      3\n",
      "5          Atlantic      2\n",
      "6  Business Insider      1\n"
     ]
    },
    {
     "data": {
      "text/html": [
       "<div>\n",
       "<style scoped>\n",
       "    .dataframe tbody tr th:only-of-type {\n",
       "        vertical-align: middle;\n",
       "    }\n",
       "\n",
       "    .dataframe tbody tr th {\n",
       "        vertical-align: top;\n",
       "    }\n",
       "\n",
       "    .dataframe thead th {\n",
       "        text-align: right;\n",
       "    }\n",
       "</style>\n",
       "<table border=\"1\" class=\"dataframe\">\n",
       "  <thead>\n",
       "    <tr style=\"text-align: right;\">\n",
       "      <th></th>\n",
       "      <th>Unnamed: 0</th>\n",
       "      <th>name</th>\n",
       "      <th>title</th>\n",
       "      <th>url</th>\n",
       "      <th>author</th>\n",
       "      <th>content</th>\n",
       "      <th>date</th>\n",
       "      <th>old_date</th>\n",
       "      <th>preprocessed_content</th>\n",
       "      <th>cluster</th>\n",
       "    </tr>\n",
       "  </thead>\n",
       "  <tbody>\n",
       "    <tr>\n",
       "      <th>26</th>\n",
       "      <td>26</td>\n",
       "      <td>NY Post</td>\n",
       "      <td>A timeline of key moments from former first la...</td>\n",
       "      <td>https://nypost.com/2023/11/19/news/a-timeline-...</td>\n",
       "      <td>Unknown</td>\n",
       "      <td>PLAINS, Ga. — Landmarks and notable events in ...</td>\n",
       "      <td>2023-11-19 18:41:00</td>\n",
       "      <td>Nov. 19, 2023, 6:41 p.m. ET</td>\n",
       "      <td>plain ga landmark notabl event life former fir...</td>\n",
       "      <td>1</td>\n",
       "    </tr>\n",
       "    <tr>\n",
       "      <th>38</th>\n",
       "      <td>38</td>\n",
       "      <td>NY Post</td>\n",
       "      <td>Texas Gov. Greg Abbott endorses Donald Trump f...</td>\n",
       "      <td>https://nypost.com/2023/11/19/news/greg-abbott...</td>\n",
       "      <td>Ryan King</td>\n",
       "      <td>Texas Gov. Greg Abbottformally endorsed former...</td>\n",
       "      <td>2023-11-19 16:53:00</td>\n",
       "      <td>Nov. 19, 2023, 4:53 p.m. ET</td>\n",
       "      <td>texa gov greg abbottform endors former presid ...</td>\n",
       "      <td>1</td>\n",
       "    </tr>\n",
       "    <tr>\n",
       "      <th>63</th>\n",
       "      <td>64</td>\n",
       "      <td>NY Post</td>\n",
       "      <td>'My equal partner'Ex-First Lady Rosalynn Carte...</td>\n",
       "      <td>https://nypost.com/2023/11/19/news/former-firs...</td>\n",
       "      <td>Patrick Reilly</td>\n",
       "      <td>Former first lady Rosalynn Carter – the Georgi...</td>\n",
       "      <td>2023-11-19 15:15:00</td>\n",
       "      <td>Nov. 19, 2023, 3:15 p.m. ET</td>\n",
       "      <td>former first ladi rosalynn carter georgiaborn ...</td>\n",
       "      <td>1</td>\n",
       "    </tr>\n",
       "    <tr>\n",
       "      <th>82</th>\n",
       "      <td>83</td>\n",
       "      <td>Atlantic</td>\n",
       "      <td>Trump Crosses a Crucial Line</td>\n",
       "      <td>https://www.theatlantic.com/newsletters/archiv...</td>\n",
       "      <td>Tom Nichols</td>\n",
       "      <td>The former president, after years of espousing...</td>\n",
       "      <td>2023-11-16 22:32:00+00:00</td>\n",
       "      <td>2023-11-16T22:32:00Z</td>\n",
       "      <td>former presid year espous authoritarian belief...</td>\n",
       "      <td>1</td>\n",
       "    </tr>\n",
       "    <tr>\n",
       "      <th>104</th>\n",
       "      <td>105</td>\n",
       "      <td>Atlantic</td>\n",
       "      <td>Trump Isn’t Merely UnhingedDavid A. Graham</td>\n",
       "      <td>https://www.theatlantic.com/ideas/archive/2023...</td>\n",
       "      <td>David A. Graham</td>\n",
       "      <td>With apologies to acertain newspaper’s slogan,...</td>\n",
       "      <td>2023-11-13 12:30:00+00:00</td>\n",
       "      <td>2023-11-13T12:30:00Z</td>\n",
       "      <td>apolog acertain newspap slogan mani donald tru...</td>\n",
       "      <td>1</td>\n",
       "    </tr>\n",
       "  </tbody>\n",
       "</table>\n",
       "</div>"
      ],
      "text/plain": [
       "     Unnamed: 0      name                                              title  \\\n",
       "26           26   NY Post  A timeline of key moments from former first la...   \n",
       "38           38   NY Post  Texas Gov. Greg Abbott endorses Donald Trump f...   \n",
       "63           64   NY Post  'My equal partner'Ex-First Lady Rosalynn Carte...   \n",
       "82           83  Atlantic                       Trump Crosses a Crucial Line   \n",
       "104         105  Atlantic         Trump Isn’t Merely UnhingedDavid A. Graham   \n",
       "\n",
       "                                                   url           author  \\\n",
       "26   https://nypost.com/2023/11/19/news/a-timeline-...          Unknown   \n",
       "38   https://nypost.com/2023/11/19/news/greg-abbott...        Ryan King   \n",
       "63   https://nypost.com/2023/11/19/news/former-firs...   Patrick Reilly   \n",
       "82   https://www.theatlantic.com/newsletters/archiv...      Tom Nichols   \n",
       "104  https://www.theatlantic.com/ideas/archive/2023...  David A. Graham   \n",
       "\n",
       "                                               content  \\\n",
       "26   PLAINS, Ga. — Landmarks and notable events in ...   \n",
       "38   Texas Gov. Greg Abbottformally endorsed former...   \n",
       "63   Former first lady Rosalynn Carter – the Georgi...   \n",
       "82   The former president, after years of espousing...   \n",
       "104  With apologies to acertain newspaper’s slogan,...   \n",
       "\n",
       "                          date                     old_date  \\\n",
       "26         2023-11-19 18:41:00  Nov. 19, 2023, 6:41 p.m. ET   \n",
       "38         2023-11-19 16:53:00  Nov. 19, 2023, 4:53 p.m. ET   \n",
       "63         2023-11-19 15:15:00  Nov. 19, 2023, 3:15 p.m. ET   \n",
       "82   2023-11-16 22:32:00+00:00         2023-11-16T22:32:00Z   \n",
       "104  2023-11-13 12:30:00+00:00         2023-11-13T12:30:00Z   \n",
       "\n",
       "                                  preprocessed_content  cluster  \n",
       "26   plain ga landmark notabl event life former fir...        1  \n",
       "38   texa gov greg abbottform endors former presid ...        1  \n",
       "63   former first ladi rosalynn carter georgiaborn ...        1  \n",
       "82   former presid year espous authoritarian belief...        1  \n",
       "104  apolog acertain newspap slogan mani donald tru...        1  "
      ]
     },
     "execution_count": 43,
     "metadata": {},
     "output_type": "execute_result"
    }
   ],
   "source": [
    "\n",
    "publication = 'publication' if 'publication' in clustered_data else 'name'\n",
    "\n",
    "reportings_df = clustered_data.loc[clustered_data['cluster'] == 1]\n",
    "counts = reportings_df[publication].value_counts()\n",
    "counts_df = pd.DataFrame({publication:counts.index, 'count':counts.values})\n",
    "\n",
    "print(counts_df)\n",
    "reportings_df.head(5)"
   ]
  },
  {
   "cell_type": "code",
   "execution_count": 33,
   "metadata": {},
   "outputs": [],
   "source": [
    "import SummarizationModel"
   ]
  },
  {
   "cell_type": "code",
   "execution_count": 31,
   "metadata": {},
   "outputs": [
    {
     "name": "stdout",
     "output_type": "stream",
     "text": [
      "A gunman opened fire and shot a man in broad daylight inside a popular New York City park over the weekend. The shooting occurred inside Brooklyn’s Prospect Park closest to the intersection of Ocean Avenue and Parkside Avenue just after 3 p.m. Sunday, police said. The 37-year-old victim was shot once in the leg, according to cops. He was rushed to Methodist Hospital in stable condition. Three people were seen running from the scene of the shooting towards Coney Island Avenue, police said.\n"
     ]
    }
   ],
   "source": [
    "print(reportings_df.iloc[0]['content'])"
   ]
  },
  {
   "cell_type": "code",
   "execution_count": 34,
   "metadata": {},
   "outputs": [
    {
     "name": "stdout",
     "output_type": "stream",
     "text": [
      "The shooting occurred in Brooklyn’s Prospect Park near the intersection of Ocean Avenue and Parkside Avenue . The 37-year-old victim was shot once in the leg, police said .\n"
     ]
    }
   ],
   "source": [
    "summary = SummarizationModel.get_summary(reportings_df.iloc[0]['content'])\n",
    "print(summary)"
   ]
  },
  {
   "cell_type": "code",
   "execution_count": 45,
   "metadata": {},
   "outputs": [],
   "source": [
    "import math\n",
    "import pandas as pd\n",
    "import numpy as np\n",
    "import matplotlib\n",
    "import matplotlib.pyplot as plt\n",
    "from mpl_toolkits.mplot3d import Axes3D\n",
    "from matplotlib.colors import ListedColormap\n",
    "from IPython.display import clear_output\n",
    "from collections import Counter\n",
    "import nltk\n",
    "import re\n",
    "from nltk.stem import PorterStemmer\n",
    "from nltk.corpus import stopwords\n",
    "from sklearn.preprocessing import normalize\n",
    "from sklearn.cluster import KMeans\n",
    "from sklearn.metrics import silhouette_score\n",
    "from sklearn.decomposition import PCA\n",
    "from sklearn.decomposition import TruncatedSVD\n",
    "import warnings\n",
    "warnings.filterwarnings(\"ignore\")\n",
    "\n",
    "import datetime\n",
    "\n",
    "from sklearn.metrics.pairwise import cosine_similarity\n",
    "\n",
    "import news_connector"
   ]
  },
  {
   "cell_type": "code",
   "execution_count": 75,
   "metadata": {},
   "outputs": [],
   "source": [
    "\n",
    "class SimilarArticles: \n",
    "    def __init__(self, tfidf, df, cluster_idx):\n",
    "        self.cluster_idx = cluster_idx\n",
    "        self.df = df\n",
    "        self.tfidf = tfidf\n",
    "        self.cs = cosine_similarity(self.tfidf)\n",
    "        \n",
    "    def find_similar_articles(self, label, cosine_similarity, threshold= 0.8):\n",
    "        \"\"\"_summary_\n",
    "\n",
    "        Args:\n",
    "            label (int): index of article in self.df\n",
    "            cosine_similarity (_type_): _description_\n",
    "            threshold (float, optional): _description_. Defaults to 0.8.\n",
    "\n",
    "        Returns:\n",
    "            _type_: _description_\n",
    "        \"\"\"\n",
    "        similar_articles = []\n",
    "        print(cosine_similarity)\n",
    "        #cs = cosine_similarity(self.tfidf[label], self.tfidf)\n",
    "        for i, similarity in enumerate(cosine_similarity[self.cluster_idx]):\n",
    "            if i != self.cluster_idx and self.df['cluster'][i] == label and similarity > threshold:\n",
    "                similar_articles.append((i, similarity))\n",
    "        return similar_articles\n",
    "    \n",
    "    def get_articles(self, df, label):\n",
    "        articles = df[df['cluster'] == label]\n",
    "        results = {'article': [], 'similarity_score': [], 'similar_articles': [], 'publisher': []}\n",
    "        for idx, article in articles.iterrows():\n",
    "            similar_articles = self.find_similar_articles(idx, label, self.cs)\n",
    "            if similar_articles:\n",
    "                print(f\"Similar articles found for for '{article['title']}'\")\n",
    "                for s_idx, similarity in similar_articles:\n",
    "                    results['article'].append(article['title'])\n",
    "                    results['similarity_score'].append(similarity)\n",
    "                    results['similar_article'].append(df['title'][s_idx])\n",
    "                    results['publisher'].append(df['name'][s_idx])\n",
    "            else:\n",
    "                pass\n",
    "        return pd.DataFrame(results)"
   ]
  },
  {
   "cell_type": "code",
   "execution_count": 76,
   "metadata": {},
   "outputs": [],
   "source": [
    "data = pd.read_csv('data/Monday-1_scraping_data_filtered_clustered.csv')\n",
    "tfidf_matrix = pd.read_csv('data/Monday_1_tfidf.csv')"
   ]
  },
  {
   "cell_type": "code",
   "execution_count": 144,
   "metadata": {},
   "outputs": [
    {
     "name": "stdout",
     "output_type": "stream",
     "text": [
      "11\n",
      "(array([100, 397, 455, 482, 485, 489, 490, 492, 494, 495, 496], dtype=int64),)\n"
     ]
    },
    {
     "data": {
      "text/plain": [
       "Text(0.5, 1.0, 'Cosine image')"
      ]
     },
     "execution_count": 144,
     "metadata": {},
     "output_type": "execute_result"
    },
    {
     "data": {
      "image/png": "[encoded data removed]",
      "text/plain": [
       "<Figure size 640x480 with 1 Axes>"
      ]
     },
     "metadata": {},
     "output_type": "display_data"
    }
   ],
   "source": [
    "#print(tfidf_matrix.first)\n",
    "#print(tfidf_matrix.iloc[0])\n",
    "#np.where(np.array(cosine_similarity(tfidf_matrix)[200] > 0.9999))\n",
    "print(np.array(cosine_similarity(tfidf_matrix)[100] > 0.999948).sum())\n",
    "print(np.where(np.array(cosine_similarity(tfidf_matrix)[100] > 0.999948)))\n",
    "pd.DataFrame(cosine_similarity(tfidf_matrix)).head(20)\n",
    "\n",
    "import matplotlib.pyplot as plt\n",
    "img_data = cosine_similarity(tfidf_matrix)**100\n",
    "plt.imshow(img_data)\n",
    "plt.title('Cosine image')"
   ]
  },
  {
   "cell_type": "code",
   "execution_count": 77,
   "metadata": {},
   "outputs": [
    {
     "name": "stdout",
     "output_type": "stream",
     "text": [
      "1\n"
     ]
    },
    {
     "ename": "TypeError",
     "evalue": "'int' object is not subscriptable",
     "output_type": "error",
     "traceback": [
      "\u001b[1;31m---------------------------------------------------------------------------\u001b[0m",
      "\u001b[1;31mTypeError\u001b[0m                                 Traceback (most recent call last)",
      "\u001b[1;32md:\\GoodSync\\edu_DTU\\02807_computational_tools\\NewsComparison\\David.ipynb Cell 17\u001b[0m line \u001b[0;36m3\n\u001b[0;32m      <a href='vscode-notebook-cell:/d%3A/GoodSync/edu_DTU/02807_computational_tools/NewsComparison/David.ipynb#X36sZmlsZQ%3D%3D?line=0'>1</a>\u001b[0m \u001b[39m# Match up similar articles in their clusters\u001b[39;00m\n\u001b[0;32m      <a href='vscode-notebook-cell:/d%3A/GoodSync/edu_DTU/02807_computational_tools/NewsComparison/David.ipynb#X36sZmlsZQ%3D%3D?line=1'>2</a>\u001b[0m similar \u001b[39m=\u001b[39m SimilarArticles(tfidf_matrix, data, \u001b[39m1\u001b[39m)\n\u001b[1;32m----> <a href='vscode-notebook-cell:/d%3A/GoodSync/edu_DTU/02807_computational_tools/NewsComparison/David.ipynb#X36sZmlsZQ%3D%3D?line=2'>3</a>\u001b[0m similar_articles \u001b[39m=\u001b[39m similar\u001b[39m.\u001b[39;49mget_articles(data, \u001b[39m1\u001b[39;49m)\n",
      "\u001b[1;32md:\\GoodSync\\edu_DTU\\02807_computational_tools\\NewsComparison\\David.ipynb Cell 17\u001b[0m line \u001b[0;36m3\n\u001b[0;32m     <a href='vscode-notebook-cell:/d%3A/GoodSync/edu_DTU/02807_computational_tools/NewsComparison/David.ipynb#X36sZmlsZQ%3D%3D?line=28'>29</a>\u001b[0m results \u001b[39m=\u001b[39m {\u001b[39m'\u001b[39m\u001b[39marticle\u001b[39m\u001b[39m'\u001b[39m: [], \u001b[39m'\u001b[39m\u001b[39msimilarity_score\u001b[39m\u001b[39m'\u001b[39m: [], \u001b[39m'\u001b[39m\u001b[39msimilar_articles\u001b[39m\u001b[39m'\u001b[39m: [], \u001b[39m'\u001b[39m\u001b[39mpublisher\u001b[39m\u001b[39m'\u001b[39m: []}\n\u001b[0;32m     <a href='vscode-notebook-cell:/d%3A/GoodSync/edu_DTU/02807_computational_tools/NewsComparison/David.ipynb#X36sZmlsZQ%3D%3D?line=29'>30</a>\u001b[0m \u001b[39mfor\u001b[39;00m idx, article \u001b[39min\u001b[39;00m articles\u001b[39m.\u001b[39miterrows():\n\u001b[1;32m---> <a href='vscode-notebook-cell:/d%3A/GoodSync/edu_DTU/02807_computational_tools/NewsComparison/David.ipynb#X36sZmlsZQ%3D%3D?line=30'>31</a>\u001b[0m     similar_articles \u001b[39m=\u001b[39m \u001b[39mself\u001b[39;49m\u001b[39m.\u001b[39;49mfind_similar_articles(idx, label, \u001b[39mself\u001b[39;49m\u001b[39m.\u001b[39;49mcs)\n\u001b[0;32m     <a href='vscode-notebook-cell:/d%3A/GoodSync/edu_DTU/02807_computational_tools/NewsComparison/David.ipynb#X36sZmlsZQ%3D%3D?line=31'>32</a>\u001b[0m     \u001b[39mif\u001b[39;00m similar_articles:\n\u001b[0;32m     <a href='vscode-notebook-cell:/d%3A/GoodSync/edu_DTU/02807_computational_tools/NewsComparison/David.ipynb#X36sZmlsZQ%3D%3D?line=32'>33</a>\u001b[0m         \u001b[39mprint\u001b[39m(\u001b[39mf\u001b[39m\u001b[39m\"\u001b[39m\u001b[39mSimilar articles found for for \u001b[39m\u001b[39m'\u001b[39m\u001b[39m{\u001b[39;00marticle[\u001b[39m'\u001b[39m\u001b[39mtitle\u001b[39m\u001b[39m'\u001b[39m]\u001b[39m}\u001b[39;00m\u001b[39m'\u001b[39m\u001b[39m\"\u001b[39m)\n",
      "\u001b[1;32md:\\GoodSync\\edu_DTU\\02807_computational_tools\\NewsComparison\\David.ipynb Cell 17\u001b[0m line \u001b[0;36m2\n\u001b[0;32m     <a href='vscode-notebook-cell:/d%3A/GoodSync/edu_DTU/02807_computational_tools/NewsComparison/David.ipynb#X36sZmlsZQ%3D%3D?line=19'>20</a>\u001b[0m \u001b[39mprint\u001b[39m(cosine_similarity)\n\u001b[0;32m     <a href='vscode-notebook-cell:/d%3A/GoodSync/edu_DTU/02807_computational_tools/NewsComparison/David.ipynb#X36sZmlsZQ%3D%3D?line=20'>21</a>\u001b[0m \u001b[39m#cs = cosine_similarity(self.tfidf[label], self.tfidf)\u001b[39;00m\n\u001b[1;32m---> <a href='vscode-notebook-cell:/d%3A/GoodSync/edu_DTU/02807_computational_tools/NewsComparison/David.ipynb#X36sZmlsZQ%3D%3D?line=21'>22</a>\u001b[0m \u001b[39mfor\u001b[39;00m i, similarity \u001b[39min\u001b[39;00m \u001b[39menumerate\u001b[39m(cosine_similarity[\u001b[39mself\u001b[39;49m\u001b[39m.\u001b[39;49mcluster_idx]):\n\u001b[0;32m     <a href='vscode-notebook-cell:/d%3A/GoodSync/edu_DTU/02807_computational_tools/NewsComparison/David.ipynb#X36sZmlsZQ%3D%3D?line=22'>23</a>\u001b[0m     \u001b[39mif\u001b[39;00m i \u001b[39m!=\u001b[39m \u001b[39mself\u001b[39m\u001b[39m.\u001b[39mcluster_idx \u001b[39mand\u001b[39;00m \u001b[39mself\u001b[39m\u001b[39m.\u001b[39mdf[\u001b[39m'\u001b[39m\u001b[39mcluster\u001b[39m\u001b[39m'\u001b[39m][i] \u001b[39m==\u001b[39m label \u001b[39mand\u001b[39;00m similarity \u001b[39m>\u001b[39m threshold:\n\u001b[0;32m     <a href='vscode-notebook-cell:/d%3A/GoodSync/edu_DTU/02807_computational_tools/NewsComparison/David.ipynb#X36sZmlsZQ%3D%3D?line=23'>24</a>\u001b[0m         similar_articles\u001b[39m.\u001b[39mappend((i, similarity))\n",
      "\u001b[1;31mTypeError\u001b[0m: 'int' object is not subscriptable"
     ]
    }
   ],
   "source": [
    "\n",
    "# Match up similar articles in their clusters\n",
    "similar = SimilarArticles(tfidf_matrix, data, 1)\n",
    "similar_articles = similar.get_articles(data, 1)"
   ]
  },
  {
   "cell_type": "code",
   "execution_count": 55,
   "metadata": {},
   "outputs": [
    {
     "data": {
      "text/html": [
       "<div>\n",
       "<style scoped>\n",
       "    .dataframe tbody tr th:only-of-type {\n",
       "        vertical-align: middle;\n",
       "    }\n",
       "\n",
       "    .dataframe tbody tr th {\n",
       "        vertical-align: top;\n",
       "    }\n",
       "\n",
       "    .dataframe thead th {\n",
       "        text-align: right;\n",
       "    }\n",
       "</style>\n",
       "<table border=\"1\" class=\"dataframe\">\n",
       "  <thead>\n",
       "    <tr style=\"text-align: right;\">\n",
       "      <th></th>\n",
       "      <th>Unnamed: 0.1</th>\n",
       "      <th>Unnamed: 0</th>\n",
       "      <th>name</th>\n",
       "      <th>title</th>\n",
       "      <th>url</th>\n",
       "      <th>author</th>\n",
       "      <th>content</th>\n",
       "      <th>date</th>\n",
       "      <th>old_date</th>\n",
       "      <th>preprocessed_content</th>\n",
       "      <th>cluster</th>\n",
       "    </tr>\n",
       "  </thead>\n",
       "  <tbody>\n",
       "    <tr>\n",
       "      <th>0</th>\n",
       "      <td>0</td>\n",
       "      <td>0</td>\n",
       "      <td>NY Post</td>\n",
       "      <td>Jets blown out by Buffalo as Zach Wilson quest...</td>\n",
       "      <td>https://nypost.com/2023/11/19/sports/jets-blow...</td>\n",
       "      <td>Brian Costello</td>\n",
       "      <td>Δ Thanks for contacting us. We've received you...</td>\n",
       "      <td>2023-11-19 19:53:00</td>\n",
       "      <td>Nov. 19, 2023, 7:53 p.m. ET</td>\n",
       "      <td>thank contact us weve receiv submiss orchard p...</td>\n",
       "      <td>6</td>\n",
       "    </tr>\n",
       "    <tr>\n",
       "      <th>1</th>\n",
       "      <td>1</td>\n",
       "      <td>1</td>\n",
       "      <td>NY Post</td>\n",
       "      <td>Cops believe torso found on NYC beach may be v...</td>\n",
       "      <td>https://nypost.com/2023/11/19/metro/torso-foun...</td>\n",
       "      <td>Joe Marino</td>\n",
       "      <td>Police believe the human torso found on a Quee...</td>\n",
       "      <td>2023-11-19 14:47:00</td>\n",
       "      <td>Nov. 19, 2023, 2:47 p.m. ET</td>\n",
       "      <td>polic believ human torso found queen beach may...</td>\n",
       "      <td>0</td>\n",
       "    </tr>\n",
       "    <tr>\n",
       "      <th>2</th>\n",
       "      <td>2</td>\n",
       "      <td>2</td>\n",
       "      <td>NY Post</td>\n",
       "      <td>NYC Council to 'roll over,' accept Mayor Eric ...</td>\n",
       "      <td>https://nypost.com/2023/11/19/metro/nyc-counci...</td>\n",
       "      <td>Carl Campanile</td>\n",
       "      <td>Δ Thanks for contacting us. We've received you...</td>\n",
       "      <td>2023-11-19 20:11:00</td>\n",
       "      <td>Nov. 19, 2023, 8:11 p.m. ET</td>\n",
       "      <td>thank contact us weve receiv submiss citi coun...</td>\n",
       "      <td>5</td>\n",
       "    </tr>\n",
       "    <tr>\n",
       "      <th>3</th>\n",
       "      <td>3</td>\n",
       "      <td>3</td>\n",
       "      <td>NY Post</td>\n",
       "      <td>Gunman opens fire, injures 1 in broad daylight...</td>\n",
       "      <td>https://nypost.com/2023/11/19/metro/gunman-ope...</td>\n",
       "      <td>Joe Marino</td>\n",
       "      <td>A gunman opened fire and shot a man in broad d...</td>\n",
       "      <td>2023-11-19 19:58:00</td>\n",
       "      <td>Nov. 19, 2023, 7:58 p.m. ET</td>\n",
       "      <td>gunman open fire shot man broad daylight insid...</td>\n",
       "      <td>5</td>\n",
       "    </tr>\n",
       "    <tr>\n",
       "      <th>4</th>\n",
       "      <td>4</td>\n",
       "      <td>4</td>\n",
       "      <td>NY Post</td>\n",
       "      <td>NBC drops lead golf analyst ahead of Hero Worl...</td>\n",
       "      <td>https://nypost.com/2023/11/19/sports/nbc-golf-...</td>\n",
       "      <td>Bridget Reilly</td>\n",
       "      <td>Δ Thanks for contacting us. We've received you...</td>\n",
       "      <td>2023-11-19 17:37:00</td>\n",
       "      <td>Nov. 19, 2023, 5:37 p.m. ET</td>\n",
       "      <td>thank contact us weve receiv submiss paul azin...</td>\n",
       "      <td>5</td>\n",
       "    </tr>\n",
       "  </tbody>\n",
       "</table>\n",
       "</div>"
      ],
      "text/plain": [
       "   Unnamed: 0.1  Unnamed: 0     name  \\\n",
       "0             0           0  NY Post   \n",
       "1             1           1  NY Post   \n",
       "2             2           2  NY Post   \n",
       "3             3           3  NY Post   \n",
       "4             4           4  NY Post   \n",
       "\n",
       "                                               title  \\\n",
       "0  Jets blown out by Buffalo as Zach Wilson quest...   \n",
       "1  Cops believe torso found on NYC beach may be v...   \n",
       "2  NYC Council to 'roll over,' accept Mayor Eric ...   \n",
       "3  Gunman opens fire, injures 1 in broad daylight...   \n",
       "4  NBC drops lead golf analyst ahead of Hero Worl...   \n",
       "\n",
       "                                                 url          author  \\\n",
       "0  https://nypost.com/2023/11/19/sports/jets-blow...  Brian Costello   \n",
       "1  https://nypost.com/2023/11/19/metro/torso-foun...      Joe Marino   \n",
       "2  https://nypost.com/2023/11/19/metro/nyc-counci...  Carl Campanile   \n",
       "3  https://nypost.com/2023/11/19/metro/gunman-ope...      Joe Marino   \n",
       "4  https://nypost.com/2023/11/19/sports/nbc-golf-...  Bridget Reilly   \n",
       "\n",
       "                                             content                 date  \\\n",
       "0  Δ Thanks for contacting us. We've received you...  2023-11-19 19:53:00   \n",
       "1  Police believe the human torso found on a Quee...  2023-11-19 14:47:00   \n",
       "2  Δ Thanks for contacting us. We've received you...  2023-11-19 20:11:00   \n",
       "3  A gunman opened fire and shot a man in broad d...  2023-11-19 19:58:00   \n",
       "4  Δ Thanks for contacting us. We've received you...  2023-11-19 17:37:00   \n",
       "\n",
       "                      old_date  \\\n",
       "0  Nov. 19, 2023, 7:53 p.m. ET   \n",
       "1  Nov. 19, 2023, 2:47 p.m. ET   \n",
       "2  Nov. 19, 2023, 8:11 p.m. ET   \n",
       "3  Nov. 19, 2023, 7:58 p.m. ET   \n",
       "4  Nov. 19, 2023, 5:37 p.m. ET   \n",
       "\n",
       "                                preprocessed_content  cluster  \n",
       "0  thank contact us weve receiv submiss orchard p...        6  \n",
       "1  polic believ human torso found queen beach may...        0  \n",
       "2  thank contact us weve receiv submiss citi coun...        5  \n",
       "3  gunman open fire shot man broad daylight insid...        5  \n",
       "4  thank contact us weve receiv submiss paul azin...        5  "
      ]
     },
     "execution_count": 55,
     "metadata": {},
     "output_type": "execute_result"
    }
   ],
   "source": [
    "data.head()"
   ]
  },
  {
   "cell_type": "code",
   "execution_count": 48,
   "metadata": {},
   "outputs": [
    {
     "name": "stdout",
     "output_type": "stream",
     "text": [
      "<__main__.SimilarArticles object at 0x0000024C06E77B20>\n"
     ]
    }
   ],
   "source": [
    "print(similar)"
   ]
  }
 ],
 "metadata": {
  "kernelspec": {
   "display_name": "base",
   "language": "python",
   "name": "python3"
  },
  "language_info": {
   "codemirror_mode": {
    "name": "ipython",
    "version": 3
   },
   "file_extension": ".py",
   "mimetype": "text/x-python",
   "name": "python",
   "nbconvert_exporter": "python",
   "pygments_lexer": "ipython3",
   "version": "3.9.16"
  }
 },
 "nbformat": 4,
 "nbformat_minor": 2
}
